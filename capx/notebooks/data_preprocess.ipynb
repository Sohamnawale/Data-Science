{
  "nbformat": 4,
  "nbformat_minor": 0,
  "metadata": {
    "colab": {
      "provenance": []
    },
    "kernelspec": {
      "name": "python3",
      "display_name": "Python 3"
    },
    "language_info": {
      "name": "python"
    }
  },
  "cells": [
    {
      "cell_type": "code",
      "execution_count": null,
      "metadata": {
        "id": "iv92jlEMcxiE"
      },
      "outputs": [],
      "source": [
        "import pandas as pd\n",
        "import re\n",
        "from nltk.sentiment.vader import SentimentIntensityAnalyzer\n",
        "from wordcloud import WordCloud\n",
        "import matplotlib.pyplot as plt\n",
        "from collections import Counter\n",
        "\n",
        "data = pd.read_csv('./trade.csv')\n",
        "data = data[data['message'].notnull() & (data['message'].str.strip() != \"\")]\n",
        "\n",
        "data['date'] = pd.to_datetime(data['date'])\n",
        "\n",
        "def clean_text(msg):\n",
        "  return re.sub(r'[^A-Za-z0-9 ]', '', msg)\n",
        "\n",
        "data['cleaned_message'] = data['message'].apply(clean_text)\n",
        "data['cleaned_message'] = data['cleaned_message'].str.lower()\n",
        "\n",
        "\n",
        "from nltk.sentiment.vader import SentimentIntensityAnalyzer\n",
        "import nltk\n",
        "nltk.download('vader_lexicon')\n",
        "\n",
        "sia = SentimentIntensityAnalyzer()\n",
        "\n",
        "data['sentiment'] = data['cleaned_message'].apply(lambda x: sia.polarity_scores(x)['compound'])\n",
        "\n",
        "\n",
        "def sentiment_category(polartiy_score):\n",
        "  if polartiy_score >= 0.5:\n",
        "    return 'positive'\n",
        "  elif polartiy_score <= -0.5:\n",
        "    return 'negative'\n",
        "  else:\n",
        "    return 'neutral'\n",
        "\n",
        "data['sentiment_category'] = data['sentiment'].apply(sentiment_category)\n",
        "print(\"sentiment analysis\")\n",
        "#data[['cleaned_message', 'sentiment', 'sentiment_category']].tail()\n",
        "\n",
        "data['hashtags'] = data['cleaned_message'].apply(lambda x: re.findall(r\"#\\w+\", x))\n",
        "keywords = ['BUY', 'SELL', 'TARGET', 'CMP', 'SUPPORT', 'hold', 'profit', 'loss']\n",
        "data['keywords'] = data['cleaned_message'].apply(\n",
        "    lambda x: [word for word in x.split() if word.upper() in keywords]\n",
        ")\n",
        "all_keywords = [kw for sublist in data['keywords'] for kw in sublist]\n",
        "keyword_counts = Counter(all_keywords)\n",
        "\n",
        "data[\"sentiment_category\"]=='positive'\n",
        "data.to_csv('./preprocessed.csv')\n"
      ]
    }
  ]
}
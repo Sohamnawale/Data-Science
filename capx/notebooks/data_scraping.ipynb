{
 "cells": [
  {
   "cell_type": "code",
   "execution_count": null,
   "metadata": {
    "id": "iv92jlEMcxiE"
   },
   "outputs": [],
   "source": [
    "import pandas as pd\n",
    "from telethon.sync import TelegramClient\n",
    "import asyncio\n",
    "\n",
    "API_ID = ''\n",
    "API_HASH = ''\n",
    "PHONE_NUMBER = ''\n",
    "\n",
    "CHANNEL = 'https://t.me/Zero_to_hero_sr_stocks_nifty_505'\n",
    "\n",
    "async def scrape_messages(api_id, api_hash, phone_number, channel, limit=500):\n",
    "    async with TelegramClient('stock_session', api_id, api_hash) as client:\n",
    "        # Connect to Telegram client\n",
    "        await client.start(phone_number)  # Start the client with the phone number for first-time authentication\n",
    "        if not await client.is_user_authorized():\n",
    "            print(\"User not authorized. Please check your credentials.\")\n",
    "            return None\n",
    "\n",
    "        # Get messages from the specified channel\n",
    "        messages = await client.get_messages(channel, limit=limit)\n",
    "\n",
    "        # Extract message data into a list\n",
    "        message_data = []\n",
    "        for msg in messages:\n",
    "            message_data.append({\n",
    "                'message': msg.text,\n",
    "                'date': msg.date,\n",
    "                'sender_id': msg.sender_id,\n",
    "                'message_id': msg.id,\n",
    "                'channel': channel\n",
    "            })\n",
    "\n",
    "        # Create a DataFrame\n",
    "        df = pd.DataFrame(message_data)\n",
    "        return df\n",
    "\n",
    "# Since you are in an environment with an existing event loop (e.g., Jupyter/Colab), you can use `await` directly here.\n",
    "df = await scrape_messages(API_ID, API_HASH, PHONE_NUMBER, CHANNEL, limit=500)\n",
    "df.tail()\n",
    "df.to_csv('./trade.csv')"
   ]
  }
 ],
 "metadata": {
  "colab": {
   "provenance": []
  },
  "kernelspec": {
   "display_name": "Python 3",
   "name": "python3"
  },
  "language_info": {
   "name": "python"
  }
 },
 "nbformat": 4,
 "nbformat_minor": 0
}
